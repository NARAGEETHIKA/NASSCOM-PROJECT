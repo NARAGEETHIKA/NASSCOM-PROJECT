{
  "nbformat": 4,
  "nbformat_minor": 0,
  "metadata": {
    "colab": {
      "name": "0369REGRESSION_ANALYSIS.ipynb",
      "provenance": [],
      "collapsed_sections": [],
      "authorship_tag": "ABX9TyMja/8eNMLdFzBVwhTqurZF",
      "include_colab_link": true
    },
    "kernelspec": {
      "name": "python3",
      "display_name": "Python 3"
    },
    "language_info": {
      "name": "python"
    }
  },
  "cells": [
    {
      "cell_type": "markdown",
      "metadata": {
        "id": "view-in-github",
        "colab_type": "text"
      },
      "source": [
        "<a href=\"https://colab.research.google.com/github/NARAGEETHIKA/NASSCOM-PROJECT/blob/main/0369REGRESSION_ANALYSIS.ipynb\" target=\"_parent\"><img src=\"https://colab.research.google.com/assets/colab-badge.svg\" alt=\"Open In Colab\"/></a>"
      ]
    },
    {
      "cell_type": "markdown",
      "metadata": {
        "id": "bjM0PBJYPzRr"
      },
      "source": [
        "# ***NASSCOM-PROJECT***\n",
        "# ***20191CSE0369***\n",
        "# ***NARA GEETHIKA***\n",
        "# ***5CSE07***\n",
        "\n",
        "#LINEAR REGRESSION:\n",
        "Linear Regression is a statistical technique which is used to find the linear relationship between dependent and one or more independent variables. This technique is applicable for Supervised learning Regression problems where we try to predict a continuous variable.\n",
        "\n",
        "Linear Regression can be further classified into two types – Simple and Multiple Linear Regression. In this project, I employ Simple Linear Regression technique where I have one independent and one dependent variable. It is the simplest form of Linear Regression where we fit a straight line to the data.\n",
        "\n",
        "#SIMPLE LINEAR REGRESSION(SLR):\n",
        "Simple Linear Regression (or SLR) is the simplest model in machine learning. It models the linear relationship between the independent and dependent variables.\n",
        "\n",
        "In this project, there is one independent or input variable which represents the Sales data and is denoted by X. Similarly, there is one dependent or output variable which represents the Advertising data and is denoted by y. We want to build a linear relationship between these variables. This linear relationship can be modelled by mathematical equation of the form:-\n",
        "\n",
        "         Y = β0   + β1*X    -------------   (1)\n",
        "In this equation, X and Y are called independent and dependent variables respectively,\n",
        "\n",
        "β1 is the coefficient for independent variable and\n",
        "\n",
        "β0 is the constant term.\n",
        "\n",
        "β0 and β1 are called parameters of the model.\n",
        "\n",
        "For simplicity, we can compare the above equation with the basic line equation of the form:-\n",
        "\n",
        "           y = ax + b       ----------------- (2)\n",
        "           We can see that\n",
        "slope of the line is given by, a = β1, and\n",
        "\n",
        "intercept of the line by b = β0.\n",
        "\n",
        "In this Simple Linear Regression model, we want to fit a line which estimates the linear relationship between X and Y. So, the question of fitting reduces to estimating the parameters of the model β0 and β1."
      ]
    },
    {
      "cell_type": "code",
      "metadata": {
        "id": "kbJwY16pqiEe"
      },
      "source": [
        "def generate_dataset_simple(beta, n, std_dev):\n",
        "  # Generate x as an array of `n` samples which can take a value between 0 and 100\n",
        "  x = np.zeros(np.random() * 100)\n",
        "  # Generate the random error of n samples, with a random value from a normal distribution, with a standard\n",
        "  # deviation provided in the function argument\n",
        "  e = np.random.randn(n) * std_dev\n",
        "  # Calculate `y` according to the equation discussed\n",
        "  y = x * beta + e"
      ],
      "execution_count": null,
      "outputs": []
    },
    {
      "cell_type": "markdown",
      "metadata": {
        "id": "oS6z1RtTr0FO"
      },
      "source": [
        "#LINEAR REGRESSION:\n",
        "\n",
        "with standard imports:"
      ]
    },
    {
      "cell_type": "code",
      "metadata": {
        "id": "UEOI9uWhtkXP"
      },
      "source": [
        "%matplotlib inline\n",
        "import matplotlib.pyplot as plt\n",
        "import seaborn as sns; sns.set()\n",
        "import numpy as np"
      ],
      "execution_count": null,
      "outputs": []
    },
    {
      "cell_type": "markdown",
      "metadata": {
        "id": "J7JMTopmuGXP"
      },
      "source": [
        "#Simple Linear Regression\n",
        "\n",
        "most familier regression, a straight line fit to data.A straight-line fit is a model of the form\n",
        "#                       y=a+b(x)\n",
        "where b=slope,and\n",
        "a=intercept\n",
        "consider the following data:"
      ]
    },
    {
      "cell_type": "code",
      "metadata": {
        "id": "u0QaKFpTTewm"
      },
      "source": [
        "%matplotlib inline\n",
        "\n",
        "#imports\n",
        "from numpy import *\n",
        "import matplotlib.pyplot as plt"
      ],
      "execution_count": null,
      "outputs": []
    },
    {
      "cell_type": "code",
      "metadata": {
        "id": "f5-URBpsVKtQ"
      },
      "source": [
        "def compute_cost(b, m, points):\n",
        "    total_cost = 0\n",
        "    N = float(len(points))\n",
        "    \n",
        "    #Compute sum of squared errors\n",
        "    for i in range(0, len(points)):\n",
        "        x = points[i, 0]\n",
        "        y = points[i, 1]\n",
        "        total_cost += (y - (m * x + b)) ** 2\n",
        "        \n",
        "    #Return average of squared error\n",
        "    return total_cost/N"
      ],
      "execution_count": null,
      "outputs": []
    },
    {
      "cell_type": "code",
      "metadata": {
        "colab": {
          "base_uri": "https://localhost:8080/",
          "height": 268
        },
        "id": "F9sji3xmnYef",
        "outputId": "3efa17b1-176a-4a73-ba80-988aa27d5347"
      },
      "source": [
        "rng = np.random.RandomState(1)\n",
        "x = 10 * rng.rand(50)\n",
        "y = 2 * x - 5 + rng.randn(50)\n",
        "plt.scatter(x, y);"
      ],
      "execution_count": null,
      "outputs": [
        {
          "output_type": "display_data",
          "data": {
            "image/png": "[encoded data removed]",
            "text/plain": [
              "<Figure size 432x288 with 1 Axes>"
            ]
          },
          "metadata": {}
        }
      ]
    },
    {
      "cell_type": "code",
      "metadata": {
        "colab": {
          "base_uri": "https://localhost:8080/",
          "height": 268
        },
        "id": "6OAUwlE_nmrn",
        "outputId": "0e8990fd-0ea7-4945-d5f6-fa8fca90c871"
      },
      "source": [
        "from sklearn.linear_model import LinearRegression\n",
        "model = LinearRegression(fit_intercept=True)\n",
        "\n",
        "model.fit(x[:, np.newaxis], y)\n",
        "\n",
        "xfit = np.linspace(0, 10, 1000)\n",
        "yfit = model.predict(xfit[:, np.newaxis])\n",
        "\n",
        "plt.scatter(x, y)\n",
        "plt.plot(xfit, yfit);"
      ],
      "execution_count": null,
      "outputs": [
        {
          "output_type": "display_data",
          "data": {
            "image/png": "[encoded data removed]",
            "text/plain": [
              "<Figure size 432x288 with 1 Axes>"
            ]
          },
          "metadata": {}
        }
      ]
    },
    {
      "cell_type": "code",
      "metadata": {
        "colab": {
          "base_uri": "https://localhost:8080/",
          "height": 268
        },
        "id": "qXN5P7tMvABf",
        "outputId": "b2ef1522-97c2-4d1c-9353-4307380cfa77"
      },
      "source": [
        "x = np.array([15,17,19,20,22,23.5,25])\n",
        "y = np.array([680, 640, 670, 660, 630, 660, 635])\n",
        "plt.scatter(x, y);"
      ],
      "execution_count": null,
      "outputs": [
        {
          "output_type": "display_data",
          "data": {
            "image/png": "[encoded data removed]",
            "text/plain": [
              "<Figure size 432x288 with 1 Axes>"
            ]
          },
          "metadata": {
            "needs_background": "light"
          }
        }
      ]
    },
    {
      "cell_type": "markdown",
      "metadata": {
        "id": "xIcko8dmzYER"
      },
      "source": [
        "we can use scikit-learn's LinearRegression estimator to fit this data and construct the best-fit line:"
      ]
    },
    {
      "cell_type": "code",
      "metadata": {
        "colab": {
          "base_uri": "https://localhost:8080/",
          "height": 268
        },
        "id": "7cJ0HSm5v2cJ",
        "outputId": "19ff9fdf-526a-4b33-c430-a8f019e8c0fa"
      },
      "source": [
        "from sklearn.linear_model import LinearRegression\n",
        "model = LinearRegression(fit_intercept=True)\n",
        "\n",
        "model.fit(x[:, np.newaxis], y)\n",
        "\n",
        "xfit = np.linspace(0, 30, 1000)\n",
        "yfit = model.predict(xfit[:, np.newaxis])\n",
        "\n",
        "plt.scatter(x, y)\n",
        "plt.plot(xfit, yfit);\n"
      ],
      "execution_count": null,
      "outputs": [
        {
          "output_type": "display_data",
          "data": {
            "image/png": "[encoded data removed]",
            "text/plain": [
              "<Figure size 432x288 with 1 Axes>"
            ]
          },
          "metadata": {
            "needs_background": "light"
          }
        }
      ]
    },
    {
      "cell_type": "code",
      "metadata": {
        "colab": {
          "base_uri": "https://localhost:8080/",
          "height": 268
        },
        "id": "Fk_-EWVurZmV",
        "outputId": "ace5c2c9-9c18-47d3-d149-ee00fda59104"
      },
      "source": [
        "from matplotlib import pyplot as plt\n",
        "plt.scatter(xfit, yfit)\n",
        "plt.plot(xfit, yfit, color='red')\n",
        "x_actual = np.array([0, 100])\n",
        "y_actual = x_actual\n",
        "plt.plot(x_actual, y_actual, color='green')\n",
        "plt.show()"
      ],
      "execution_count": null,
      "outputs": [
        {
          "output_type": "display_data",
          "data": {
            "image/png": "[encoded data removed]",
            "text/plain": [
              "<Figure size 432x288 with 1 Axes>"
            ]
          },
          "metadata": {}
        }
      ]
    },
    {
      "cell_type": "code",
      "metadata": {
        "colab": {
          "base_uri": "https://localhost:8080/"
        },
        "id": "sBIFHKMA2AJq",
        "outputId": "bd5f2c54-011e-4c4c-9f40-ca11176f7127"
      },
      "source": [
        "print(\"model slope:    \", model.coef_[0])\n",
        "print(\"model intercept:\", model.intercept_)"
      ],
      "execution_count": null,
      "outputs": [
        {
          "output_type": "stream",
          "name": "stdout",
          "text": [
            "model slope:     -2.968015051740358\n",
            "model intercept: 713.5677328316086\n"
          ]
        }
      ]
    },
    {
      "cell_type": "markdown",
      "metadata": {
        "id": "ZT53ZBPgn7Pp"
      },
      "source": [
        "The LinearRegression estimator is much more capable than this, however—in addition to simple straight-line fits, it can also handle multidimensional linear models of the form\n",
        "y=a0+a1x1+a2x2+⋯ \n",
        "where there are multiple  x  values. Geometrically, this is akin to fitting a plane to points in three dimensions, or fitting a hyper-plane to points in higher dimensions.\n",
        "\n",
        "The multidimensional nature of such regressions makes them more difficult to visualize, but we can see one of these fits in action by building some example data, using NumPy's matrix multiplication operator:"
      ]
    },
    {
      "cell_type": "code",
      "metadata": {
        "colab": {
          "base_uri": "https://localhost:8080/"
        },
        "id": "3oyiK7zzn80i",
        "outputId": "0b4d73fb-8e54-4517-8338-86bec9bc2896"
      },
      "source": [
        "rng = np.random.RandomState(1)\n",
        "X = 10 * rng.rand(100, 3)\n",
        "y = 0.5 + np.dot(X, [1.5, -2., 1.])\n",
        "\n",
        "model.fit(X, y)\n",
        "print(model.intercept_)\n",
        "print(model.coef_)"
      ],
      "execution_count": null,
      "outputs": [
        {
          "output_type": "stream",
          "name": "stdout",
          "text": [
            "0.5000000000000051\n",
            "[ 1.5 -2.   1. ]\n"
          ]
        }
      ]
    },
    {
      "cell_type": "markdown",
      "metadata": {
        "id": "KP9t5P8VoVBn"
      },
      "source": [
        "#Basis Function Regression:\n",
        "One trick you can use to adapt linear regression to nonlinear relationships between variables is to transform the data according to basis functions. We have seen one version of this before, in the PolynomialRegression pipeline used in Hyperparameters and Model Validation and Feature Engineering. The idea is to take our multidimensional linear model:\n",
        "y=a0+a1x1+a2x2+a3x3+⋯ \n",
        "and build the  x1,x2,x3,  and so on, from our single-dimensional input  x . That is, we let  xn=fn(x) , where  fn()  is some function that transforms our data.\n",
        "\n",
        "For example, if  fn(x)=xn , our model becomes a polynomial regression:\n",
        "y=a0+a1x+a2x2+a3x3+⋯ \n",
        "Notice that this is still a linear model—the linearity refers to the fact that the coefficients  an  never multiply or divide each other. What we have effectively done is taken our one-dimensional  x  values and projected them into a higher dimension, so that a linear fit can fit more complicated relationships between  x  and  y ."
      ]
    },
    {
      "cell_type": "markdown",
      "metadata": {
        "id": "szVCBLQMtqDs"
      },
      "source": [
        "#Generating Simulated DataSet for regression problems:\n",
        "Suppose, a survey is conducted among the employees of a company. In that survey, the salary and the years of experience of the employees are collected. The aim of this data collection is to build a regression model that could predict the salary from the given experience (especially for the values not seen by the model).\n",
        "\n",
        "\n",
        "#Generating the dataset:\n",
        "To construct a simulated dataset for this scenario, the sklearn.dataset.make_regression function available in the scikit-learn library can be used. The function generates the samples for a random regression problem.\n",
        "\n",
        "The make_regression function generates samples for inputs (features) and output (target) by applying random linear regression model. The values for generated samples have to be scaled to appropriate range for the given problem."
      ]
    },
    {
      "cell_type": "code",
      "metadata": {
        "colab": {
          "base_uri": "https://localhost:8080/",
          "height": 318
        },
        "id": "8Ffcrp6Xsxd3",
        "outputId": "979f1b1e-1a5d-4dac-965e-2f05224691d5"
      },
      "source": [
        "import numpy as np\n",
        "from sklearn import datasets\n",
        "import matplotlib.pyplot as plt #for plotting\n",
        "\n",
        "x, y, coef = datasets.make_regression(n_samples=100,#number of samples\n",
        "                                      n_features=1,#number of features\n",
        "                                      n_informative=1,#number of useful features \n",
        "                                      noise=10,#bias and standard deviation of the guassian noise\n",
        "                                      coef=True,#true coefficient used to generated the data\n",
        "                                      random_state=0) #set for same data points for each run\n",
        "\n",
        "# Scale feature x (years of experience) to range 0..20\n",
        "x = np.interp(x, (x.min(), x.max()), (0, 20))\n",
        "\n",
        "# Scale target y (salary) to range 20000..150000 \n",
        "y = np.interp(y, (y.min(), y.max()), (20000, 150000))\n",
        "\n",
        "plt.ion() #interactive plot on\n",
        "plt.plot(x,y,'.',label='training data')\n",
        "plt.xlabel('Years of experience');plt.ylabel('Salary $')\n",
        "plt.title('Experience Vs. Salary')"
      ],
      "execution_count": null,
      "outputs": [
        {
          "output_type": "execute_result",
          "data": {
            "text/plain": [
              "Text(0.5, 1.0, 'Experience Vs. Salary')"
            ]
          },
          "metadata": {},
          "execution_count": 59
        },
        {
          "output_type": "display_data",
          "data": {
            "image/png": "[encoded data removed]",
            "text/plain": [
              "<Figure size 432x288 with 1 Axes>"
            ]
          },
          "metadata": {}
        }
      ]
    },
    {
      "cell_type": "markdown",
      "metadata": {
        "id": "6KxgxVaNs--w"
      },
      "source": [
        "***Pandas DataFrame Format:***"
      ]
    },
    {
      "cell_type": "code",
      "metadata": {
        "colab": {
          "base_uri": "https://localhost:8080/",
          "height": 357
        },
        "id": "bYYwPXjYtD_C",
        "outputId": "b2771c95-d01c-409a-9e1e-43b17e72400b"
      },
      "source": [
        "import pandas as pd\n",
        "df = pd.DataFrame(data={'experience':x.flatten(),'salary':y})\n",
        "df.head(10)\n"
      ],
      "execution_count": null,
      "outputs": [
        {
          "output_type": "execute_result",
          "data": {
            "text/html": [
              "<div>\n",
              "<style scoped>\n",
              "    .dataframe tbody tr th:only-of-type {\n",
              "        vertical-align: middle;\n",
              "    }\n",
              "\n",
              "    .dataframe tbody tr th {\n",
              "        vertical-align: top;\n",
              "    }\n",
              "\n",
              "    .dataframe thead th {\n",
              "        text-align: right;\n",
              "    }\n",
              "</style>\n",
              "<table border=\"1\" class=\"dataframe\">\n",
              "  <thead>\n",
              "    <tr style=\"text-align: right;\">\n",
              "      <th></th>\n",
              "      <th>experience</th>\n",
              "      <th>salary</th>\n",
              "    </tr>\n",
              "  </thead>\n",
              "  <tbody>\n",
              "    <tr>\n",
              "      <th>0</th>\n",
              "      <td>9.096218</td>\n",
              "      <td>78311.160754</td>\n",
              "    </tr>\n",
              "    <tr>\n",
              "      <th>1</th>\n",
              "      <td>14.637429</td>\n",
              "      <td>103897.664526</td>\n",
              "    </tr>\n",
              "    <tr>\n",
              "      <th>2</th>\n",
              "      <td>12.255808</td>\n",
              "      <td>97836.261015</td>\n",
              "    </tr>\n",
              "    <tr>\n",
              "      <th>3</th>\n",
              "      <td>7.215160</td>\n",
              "      <td>80550.256380</td>\n",
              "    </tr>\n",
              "    <tr>\n",
              "      <th>4</th>\n",
              "      <td>6.905628</td>\n",
              "      <td>68555.820963</td>\n",
              "    </tr>\n",
              "    <tr>\n",
              "      <th>5</th>\n",
              "      <td>12.427999</td>\n",
              "      <td>108021.442271</td>\n",
              "    </tr>\n",
              "    <tr>\n",
              "      <th>6</th>\n",
              "      <td>6.534503</td>\n",
              "      <td>55778.019993</td>\n",
              "    </tr>\n",
              "    <tr>\n",
              "      <th>7</th>\n",
              "      <td>12.363590</td>\n",
              "      <td>101586.979793</td>\n",
              "    </tr>\n",
              "    <tr>\n",
              "      <th>8</th>\n",
              "      <td>11.451010</td>\n",
              "      <td>103966.618570</td>\n",
              "    </tr>\n",
              "    <tr>\n",
              "      <th>9</th>\n",
              "      <td>9.295277</td>\n",
              "      <td>76826.009140</td>\n",
              "    </tr>\n",
              "  </tbody>\n",
              "</table>\n",
              "</div>"
            ],
            "text/plain": [
              "   experience         salary\n",
              "0    9.096218   78311.160754\n",
              "1   14.637429  103897.664526\n",
              "2   12.255808   97836.261015\n",
              "3    7.215160   80550.256380\n",
              "4    6.905628   68555.820963\n",
              "5   12.427999  108021.442271\n",
              "6    6.534503   55778.019993\n",
              "7   12.363590  101586.979793\n",
              "8   11.451010  103966.618570\n",
              "9    9.295277   76826.009140"
            ]
          },
          "metadata": {},
          "execution_count": 62
        }
      ]
    },
    {
      "cell_type": "markdown",
      "metadata": {
        "id": "lal6kMxG3-xl"
      },
      "source": [
        "#MULTIVARIENT LINEAR REGRESSION"
      ]
    },
    {
      "cell_type": "markdown",
      "metadata": {
        "id": "NM05xbwN-TQr"
      },
      "source": [
        "IMPORT LIBRARIES"
      ]
    },
    {
      "cell_type": "code",
      "metadata": {
        "id": "lTNkN8C94Zhm"
      },
      "source": [
        "%matplotlib inline\n",
        "from mpl_toolkits.mplot3d import Axes3D\n",
        "import numpy as np\n",
        "import matplotlib.pyplot as plt\n",
        "from sklearn.preprocessing import normalize"
      ],
      "execution_count": null,
      "outputs": []
    },
    {
      "cell_type": "markdown",
      "metadata": {
        "id": "vUgEKocK4hfG"
      },
      "source": [
        "#Data & Normalization"
      ]
    },
    {
      "cell_type": "markdown",
      "metadata": {
        "id": "yXg-C0bo-YhE"
      },
      "source": [
        "#READ DATA"
      ]
    },
    {
      "cell_type": "code",
      "metadata": {
        "id": "ZNQNilbE8RtH"
      },
      "source": [
        "data = np.genfromtxt('https://raw.githubusercontent.com/Tan-Moy/medium_articles/master/art2_multivariate_linear_regression/home.txt', delimiter=',')"
      ],
      "execution_count": null,
      "outputs": []
    },
    {
      "cell_type": "code",
      "metadata": {
        "id": "S6laIHMX5zAo"
      },
      "source": [
        "data= shape"
      ],
      "execution_count": null,
      "outputs": []
    },
    {
      "cell_type": "markdown",
      "metadata": {
        "id": "hH-8GCUw-jEP"
      },
      "source": [
        "#NORMALIZE DATA"
      ]
    },
    {
      "cell_type": "code",
      "metadata": {
        "id": "A4fOF-mQ-mIb"
      },
      "source": [
        "data = normalize(data, axis=0)"
      ],
      "execution_count": null,
      "outputs": []
    },
    {
      "cell_type": "markdown",
      "metadata": {
        "id": "7oHlGhJR9W5P"
      },
      "source": [
        "#Seperate Data into X and Y:"
      ]
    },
    {
      "cell_type": "code",
      "metadata": {
        "id": "UDR00_wD9yDF"
      },
      "source": [
        "X = data[:, 0:2]\n",
        "Y = data[:, 2:]"
      ],
      "execution_count": null,
      "outputs": []
    },
    {
      "cell_type": "markdown",
      "metadata": {
        "id": "41yK1VpM9NW0"
      },
      "source": [
        "#VISUALIZE THE DATA"
      ]
    },
    {
      "cell_type": "code",
      "metadata": {
        "colab": {
          "base_uri": "https://localhost:8080/",
          "height": 248
        },
        "id": "NxCiTayf97Ry",
        "outputId": "f15d58bf-78b2-4c6e-d738-f0c129952c8a"
      },
      "source": [
        "# Fixing random state for reproducibility\n",
        "np.random.seed(19680801)\n",
        "\n",
        "fig = plt.figure()\n",
        "ax = fig.add_subplot(111, projection='3d')\n",
        "\n",
        "xs = X[:, 0]\n",
        "ys = X[:, 1]\n",
        "zs = X[:, 2]\n",
        "ax.scatter(xs, ys, zs)\n",
        "\n",
        "ax.set_xlabel('size')\n",
        "ax.set_ylabel('bedroom')\n",
        "ax.set_zlabel('price')\n",
        "\n",
        "plt.show()"
      ],
      "execution_count": null,
      "outputs": [
        {
          "output_type": "display_data",
          "data": {
            "image/png": "[encoded data removed]",
            "text/plain": [
              "<Figure size 432x288 with 1 Axes>"
            ]
          },
          "metadata": {
            "needs_background": "light"
          }
        }
      ]
    }
  ]
}